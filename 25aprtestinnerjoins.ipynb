{
 "cells": [
  {
   "cell_type": "markdown",
   "id": "509c2545",
   "metadata": {},
   "source": [
    "***GENERATED CODE FOR 25aprtestinnerjoins PIPELINE.***"
   ]
  },
  {
   "cell_type": "markdown",
   "id": "343da11d",
   "metadata": {},
   "source": [
    "***DON'T EDIT THIS CODE.***"
   ]
  },
  {
   "cell_type": "markdown",
   "id": "17754e9d",
   "metadata": {},
   "source": [
    "***CONNECTOR FUNCTIONS TO READ DATA.***"
   ]
  },
  {
   "cell_type": "code",
   "execution_count": null,
   "id": "9e7e775d",
   "metadata": {},
   "outputs": [],
   "source": [
    "import os\n",
    "import datetime\n",
    "import logging\n",
    "import warnings\n",
    "warnings.filterwarnings('ignore')\n",
    "logging.basicConfig(format='%(levelname)s:%(message)s', level=logging.INFO)\n",
    "\n",
    "\n",
    "class HDFSConnector:\n",
    "\n",
    "    def fetch(spark, config):\n",
    "        ################### INPUT HADOOP HOST PORT TO CONNECT WITH ###############################\n",
    "        hdfs_server = str(os.environ['HDFS_SERVER'])\n",
    "        hdfs_port = int(os.environ['HDFS_PORT'])\n",
    "        df = spark.read.options(header='true', inferschema='true').csv(\n",
    "            f\"hdfs://{hdfs_server}:{hdfs_port}{eval(config)['url']}\", header='true')\n",
    "        display(df.limit(2).toPandas())\n",
    "        return df\n",
    "\n",
    "    def put(df, spark, config):\n",
    "        return df.write.format('csv').options(header='true' if eval(config)[\"is_header\"] == \"Use Header Line\" else 'false',\n",
    "                                              delimiter=eval(config)[\"delimiter\"]).save((\"%s %s\") % (datetime.datetime.now().strftime(\"%Y-%m-%d %H.%M.%S\")+\"_\", eval(config)['url']))\n"
   ]
  },
  {
   "cell_type": "markdown",
   "id": "3d75829d",
   "metadata": {},
   "source": [
    "***OPERATION FUNCTIONS***"
   ]
  },
  {
   "cell_type": "code",
   "execution_count": null,
   "id": "4ac1a30b",
   "metadata": {},
   "outputs": [],
   "source": [
    "from pyspark.sql import functions as F\n",
    "\n",
    "\n",
    "def QueryBuilder(spark, joindatalist, paths):\n",
    "    listOfDfnames = {}\n",
    "    for path in paths:\n",
    "        listOfDfnames[path['sourcename']] = spark.read.options(\n",
    "            header='true', inferschema='true', delimiter=',').csv('dbfs:' + path['sourcepath'])\n",
    "    for join in joindatalist:\n",
    "        dfA = listOfDfnames[join['sourceA']['sourcename']]\n",
    "        dfB = listOfDfnames[join['sourceB']['sourcename']]\n",
    "        f1 = 'a.' + join['sourceA']['fieldname'].replace(\" \", \"\")\n",
    "        f2 = 'b.' + join['sourceB']['fieldname'].replace(\" \", \"\")\n",
    "        listOfDfnames[join['sourceA']['sourcename'] + '_' + join['sourceB']['sourcename']] = removeIfDuplicates(dfA.alias('a').join(\n",
    "            dfB.alias('b'), F.col(f1) == F.col(f2),\n",
    "            how=join['joinName']))\n",
    "        joinedDf = listOfDfnames[join['sourceA']\n",
    "                                 ['sourcename'] + '_' + join['sourceB']['sourcename']]\n",
    "    df = removeIfDuplicates(joinedDf)\n",
    "    print(display(df.limit(2).toPandas()))\n",
    "    return df\n",
    "\n",
    "\n",
    "def removeIfDuplicates(joinedDf):\n",
    "    cols_new = []\n",
    "    seen = set()\n",
    "    for c in joinedDf.columns:\n",
    "        cols_new.append('{}_dup'.format(c) if c in seen else c)\n",
    "        seen.add(c)\n",
    "    df = joinedDf.toDF(*cols_new).select(*\n",
    "                                         [c for c in cols_new if not c.endswith('_dup')])\n",
    "    return df\n"
   ]
  },
  {
   "cell_type": "markdown",
   "id": "d15e1d8f",
   "metadata": {},
   "source": [
    "***CONNECTOR FUNCTIONS TO WRITE DATA.***"
   ]
  },
  {
   "cell_type": "code",
   "execution_count": null,
   "id": "598bfcd6",
   "metadata": {},
   "outputs": [],
   "source": [
    "import datetime\n",
    "import requests\n",
    "import datetime\n",
    "import logging\n",
    "import warnings\n",
    "warnings.filterwarnings('ignore')\n",
    "logging.basicConfig(format='%(levelname)s:%(message)s', level=logging.INFO)\n",
    "\n",
    "\n",
    "class NumtraConnector:\n",
    "\n",
    "    def put(inStages, inStagesData, stageId, spark, config):\n",
    "        path = eval(config)['server_url']\n",
    "        baseType = eval(config)['baseType']\n",
    "        results_url = eval(config)['results_url']\n",
    "        server = eval(config)['server']\n",
    "        originalfile = eval(config)['orignalKey']\n",
    "        eval(config)['pathOnly']\n",
    "        filename = eval(config)['filename']\n",
    "        eval(config)['ser']\n",
    "        eval(config)['user']\n",
    "        eval(config)['password']\n",
    "        eval(config)['authSource']\n",
    "        eval(config)['user_id']\n",
    "        eval(config)['parent_id']\n",
    "        eval(config)['project_id']\n",
    "        time = str(int(datetime.datetime.now().timestamp()))\n",
    "\n",
    "        inStagesData[inStages[0]]\n",
    "\n",
    "        print(path)\n",
    "        print(baseType)\n",
    "        print(results_url)\n",
    "        print(server)\n",
    "        print(originalfile)\n",
    "        print(filename)\n",
    "\n",
    "        args = {\n",
    "            'url': path,\n",
    "            'baseType': baseType,\n",
    "            'originalfile': originalfile,\n",
    "            'filename': time + filename\n",
    "        }\n",
    "\n",
    "        response = requests.post(results_url, args)\n",
    "        return response\n"
   ]
  },
  {
   "cell_type": "markdown",
   "id": "679279d9",
   "metadata": {},
   "source": [
    "***READING DATAFRAME***"
   ]
  },
  {
   "cell_type": "code",
   "execution_count": null,
   "id": "8fdfb5f6",
   "metadata": {},
   "outputs": [],
   "source": [
    "############## CREATE SPARK SESSION ############################ ENTER YOUR SPARK MASTER IP AND PORT TO CONNECT TO SERVER ################\n",
    "from pyspark.sql import SparkSession\n",
    "spark = SparkSession.builder.master('local[1]').getOrCreate()\n",
    "#%run 25aprtestinnerjoinsHooks.ipynb\n",
    "try:\n",
    "\t#sourcePreExecutionHook()\n",
    "\t\theartfailuretjointest = HDFSConnector.fetch(spark, \"{'url': '/FileStore/platform/uploadedSourceFiles/HeartFailuretJoinTest.csv', 'filename': 'HeartFailuretJoinTest.csv', 'delimiter': ',', 'file_type': 'Delimeted', 'is_header': 'Use Header Line', 'server_url': '/nexusMax/NexusMaxPlatform/uploads/platform/'}\")\n",
    "\n",
    "\n",
    "\n",
    "\theartfailurejointest = HDFSConnector.fetch(spark, \"{'url': '/FileStore/platform/uploadedSourceFiles/HeartFailureJoinTest1.csv', 'filename': 'HeartFailureJoinTest1.csv', 'delimiter': ',', 'file_type': 'Delimeted', 'dbfs_token': '', 'dbfs_domain': '', 'is_header': 'Use Header Line', 'server_url': '/nexusMax/NexusMaxPlatform/uploads/platform/', 'results_url': 'http://dnm.bfirst.ai:44040/api/read/hdfs'}\")\n",
    "\n",
    "except Exception as ex: \n",
    "\tlogging.error(ex)\n",
    "#spark.stop()\n"
   ]
  },
  {
   "cell_type": "markdown",
   "id": "02f24692",
   "metadata": {},
   "source": [
    "***PERFORMING OPERATIONS***"
   ]
  },
  {
   "cell_type": "code",
   "execution_count": null,
   "id": "e5fcf47e",
   "metadata": {},
   "outputs": [],
   "source": [
    "#%run 25aprtestinnerjoinsHooks.ipynb\n",
    "try:\n",
    "\t#operationPreExecutionHook()\n",
    "\n",
    "\tjoin = QueryBuilder(spark,[{\"sourceA\": {\"sourceid\": \"662b99d241baabd233746b1c\", \"fieldname\": \"age\", \"sourceinfo\": {\"source\": \"hdfs\", \"sourceAttributes\": {\"url\": \"/FileStore/platform/uploadedSourceFiles/HeartFailuretJoinTest.csv\"}}, \"sourcename\": \"heartfailuretjointest\"}, \"sourceB\": {\"sourceid\": \"662b99ce41baabd233746b15\", \"fieldname\": \"age\", \"sourceinfo\": {\"source\": \"hdfs\", \"sourceAttributes\": {\"url\": \"/FileStore/platform/uploadedSourceFiles/HeartFailureJoinTest1.csv\"}}, \"sourcename\": \"heartfailurejointest1\"}, \"joinName\": \"inner\"}],[{'sourcename': 'heartfailuretjointest', 'sourceinfo': {'source': 'hdfs', 'sourceAttributes': {'url': '/FileStore/platform/uploadedSourceFiles/HeartFailuretJoinTest.csv'}}}, {'sourcename': 'heartfailurejointest1', 'sourceinfo': {'source': 'hdfs', 'sourceAttributes': {'url': '/FileStore/platform/uploadedSourceFiles/HeartFailureJoinTest1.csv'}}}])\n",
    "\t#operationPostExecutionHook(join)\n",
    "\n",
    "except Exception as ex: \n",
    "\tlogging.error(ex)\n"
   ]
  },
  {
   "cell_type": "markdown",
   "id": "b314aa05",
   "metadata": {},
   "source": [
    "***WRITING DATAFRAME***"
   ]
  },
  {
   "cell_type": "code",
   "execution_count": null,
   "id": "7b753355",
   "metadata": {},
   "outputs": [],
   "source": [
    "#%run 25aprtestinnerjoinsHooks.ipynb\n",
    "try:\n",
    "\t#sinkPreExecutionHook()\n",
    "\n",
    "\toperatorsdatasetoutput = NumtraConnector.fetch(spark, \"{'samplefile': '/FileStore/platform/sampleData/662b99d241baabd233746b1aJoinStage/part-00000-31fc13f6-2353-4329-89f6-7838887bcac4-c000.csv', 'samplecount': 973, 'originalcount': 973, 'orignalKey': '/FileStore/platform/sampleData/662b99d241baabd233746b1aJoinStage/part-00000-31fc13f6-2353-4329-89f6-7838887bcac4-c000.csv', 'pathOnly': '/OperatorsTest/OperatorsDataset', 'project_id': '6627a219b6d893f4c9a9ee24', 'parent_id': '6627a219b6d893f4c9a9ee24', 'original_schema': [{'checked': True, 'inherited': True, 'is_categorical': False, 'bad_values': '', 'nullable': 'true', '_id': '662b9a5e41baabd233746b92', 'field': 'anaemia', 'alias': 'anaemia', 'position': '0'}, {'checked': True, 'inherited': True, 'is_categorical': False, 'bad_values': '', 'nullable': 'true', '_id': '662b9a5e41baabd233746b93', 'field': 'creatinine_phosphokinase', 'alias': 'creatinine_phosphokinase', 'position': '1'}, {'checked': True, 'inherited': True, 'is_categorical': False, 'bad_values': '', 'nullable': 'true', '_id': '662b9a5e41baabd233746b94', 'field': 'diabetes', 'alias': 'diabetes', 'position': '2'}, {'checked': True, 'inherited': True, 'is_categorical': False, 'bad_values': '', 'nullable': 'true', '_id': '662b9a5e41baabd233746b95', 'field': 'age', 'alias': 'age', 'position': '3'}, {'checked': True, 'inherited': True, 'is_categorical': False, 'bad_values': '', 'nullable': 'true', '_id': '662b9a5e41baabd233746b96', 'field': 'ejection_fraction', 'alias': 'ejection_fraction', 'position': '4'}, {'checked': True, 'inherited': True, 'is_categorical': False, 'bad_values': '', 'nullable': 'true', '_id': '662b9a5e41baabd233746b97', 'field': 'high_blood_pressure', 'alias': 'high_blood_pressure', 'position': '5'}, {'checked': True, 'inherited': True, 'is_categorical': False, 'bad_values': '', 'nullable': 'true', '_id': '662b9a5e41baabd233746b98', 'field': 'platelets', 'alias': 'platelets', 'position': '6'}, {'checked': True, 'inherited': True, 'is_categorical': False, 'bad_values': '', 'nullable': 'true', '_id': '662b9a5e41baabd233746b99', 'field': 'serum_creatinine', 'alias': 'serum_creatinine', 'position': '7'}, {'checked': True, 'inherited': True, 'is_categorical': False, 'bad_values': '', 'nullable': 'true', '_id': '662b9a5e41baabd233746b9a', 'field': 'serum_sodium', 'alias': 'serum_sodium', 'position': '8'}, {'checked': True, 'inherited': True, 'is_categorical': False, 'bad_values': '', 'nullable': 'true', '_id': '662b9a5e41baabd233746b9b', 'field': 'sex', 'alias': 'sex', 'position': '9'}, {'checked': True, 'inherited': True, 'is_categorical': False, 'bad_values': '', 'nullable': 'true', '_id': '662b9a5e41baabd233746b9c', 'field': 'smoking', 'alias': 'smoking', 'position': '10'}, {'checked': True, 'inherited': True, 'is_categorical': False, 'bad_values': '', 'nullable': 'true', '_id': '662b9a5e41baabd233746b9d', 'field': 'time', 'alias': 'time', 'position': '11'}, {'checked': True, 'inherited': True, 'is_categorical': False, 'bad_values': '', 'nullable': 'true', '_id': '662b9a5e41baabd233746b9e', 'field': 'DEATH_EVENT', 'alias': 'DEATH_EVENT', 'position': '12'}], 'actual_schema': [{'checked': True, 'inherited': True, 'is_categorical': False, 'bad_values': '', 'nullable': 'true', '_id': '662b9a5e41baabd233746b85', 'field': 'anaemia', 'alias': 'anaemia', 'type': 'numeric'}, {'checked': True, 'inherited': True, 'is_categorical': False, 'bad_values': '', 'nullable': 'true', '_id': '662b9a5e41baabd233746b86', 'field': 'creatinine_phosphokinase', 'alias': 'creatinine_phosphokinase', 'type': 'numeric'}, {'checked': True, 'inherited': True, 'is_categorical': False, 'bad_values': '', 'nullable': 'true', '_id': '662b9a5e41baabd233746b87', 'field': 'diabetes', 'alias': 'diabetes', 'type': 'numeric'}, {'checked': True, 'inherited': True, 'is_categorical': False, 'bad_values': '', 'nullable': 'true', '_id': '662b9a5e41baabd233746b88', 'field': 'age', 'alias': 'age', 'type': 'numeric'}, {'checked': True, 'inherited': True, 'is_categorical': False, 'bad_values': '', 'nullable': 'true', '_id': '662b9a5e41baabd233746b89', 'field': 'ejection_fraction', 'alias': 'ejection_fraction', 'type': 'numeric'}, {'checked': True, 'inherited': True, 'is_categorical': False, 'bad_values': '', 'nullable': 'true', '_id': '662b9a5e41baabd233746b8a', 'field': 'high_blood_pressure', 'alias': 'high_blood_pressure', 'type': 'numeric'}, {'checked': True, 'inherited': True, 'is_categorical': False, 'bad_values': '', 'nullable': 'true', '_id': '662b9a5e41baabd233746b8b', 'field': 'platelets', 'alias': 'platelets', 'type': 'real'}, {'checked': True, 'inherited': True, 'is_categorical': False, 'bad_values': '', 'nullable': 'true', '_id': '662b9a5e41baabd233746b8c', 'field': 'serum_creatinine', 'alias': 'serum_creatinine', 'type': 'real'}, {'checked': True, 'inherited': True, 'is_categorical': False, 'bad_values': '', 'nullable': 'true', '_id': '662b9a5e41baabd233746b8d', 'field': 'serum_sodium', 'alias': 'serum_sodium', 'type': 'numeric'}, {'checked': True, 'inherited': True, 'is_categorical': False, 'bad_values': '', 'nullable': 'true', '_id': '662b9a5e41baabd233746b8e', 'field': 'sex', 'alias': 'sex', 'type': 'numeric'}, {'checked': True, 'inherited': True, 'is_categorical': False, 'bad_values': '', 'nullable': 'true', '_id': '662b9a5e41baabd233746b8f', 'field': 'smoking', 'alias': 'smoking', 'type': 'numeric'}, {'checked': True, 'inherited': True, 'is_categorical': False, 'bad_values': '', 'nullable': 'true', '_id': '662b9a5e41baabd233746b90', 'field': 'time', 'alias': 'time', 'type': 'numeric'}, {'checked': True, 'inherited': True, 'is_categorical': False, 'bad_values': '', 'nullable': 'true', '_id': '662b9a5e41baabd233746b91', 'field': 'DEATH_EVENT', 'alias': 'DEATH_EVENT', 'type': 'numeric'}], 'server': 'https://dnm.bfirst.ai:443', 'server_url': '/nexusMax/NexusMaxPlatform/uploads/platform/', 'delimiter': ',', 'file_type': 'Delimeted', 'filename': '26AprInnerJoinTest.csv', 'token': '', 'domain': '', 'is_header': 'Use Header Line', 'url': '/FileStore/platform/uploadedSourceFiles/part-00000-9622500d-b0f1-4c8d-a88c-44ab2f910e4a-c000.csv', 'results_url': 'http://dnm.bfirst.ai:44040/api/read/hdfs'}\")\n",
    "\n",
    "except Exception as ex: \n",
    "\tlogging.error(ex)\n"
   ]
  }
 ],
 "metadata": {},
 "nbformat": 4,
 "nbformat_minor": 5
}
